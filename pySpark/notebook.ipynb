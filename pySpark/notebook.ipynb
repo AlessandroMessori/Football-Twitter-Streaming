{
 "cells": [
  {
   "cell_type": "markdown",
   "id": "israeli-glass",
   "metadata": {},
   "source": [
    "# Football Twitter Streaming"
   ]
  },
  {
   "cell_type": "markdown",
   "id": "brazilian-quarter",
   "metadata": {},
   "source": [
    "## Imports the needed modules"
   ]
  },
  {
   "cell_type": "code",
   "execution_count": null,
   "id": "flying-naples",
   "metadata": {},
   "outputs": [],
   "source": [
    "from pyspark.sql.session import SparkSession\n",
    "from pyspark.sql.functions import lit, explode, split, col, from_json, to_json, json_tuple, window, struct, udf\n",
    "from pyspark.sql.types import StructType, StructField, StringType, IntegerType, DoubleType, LongType"
   ]
  },
  {
   "cell_type": "markdown",
   "id": "driven-effect",
   "metadata": {},
   "source": [
    "## Set Up Spark Session and Define Schemas"
   ]
  },
  {
   "cell_type": "markdown",
   "id": "composite-database",
   "metadata": {},
   "source": [
    "The schemas defined here are needed in order to extract the content from the twitter posts in the kafka topic"
   ]
  },
  {
   "cell_type": "code",
   "execution_count": null,
   "id": "colored-moment",
   "metadata": {},
   "outputs": [],
   "source": [
    "spark = SparkSession.builder.appName(\"wordCounter\").getOrCreate()\n",
    "\n",
    "# Defines schema of Twitter Post\n",
    "tweetSchema = StructType() \\\n",
    "    .add(\"payload\", StringType())\n",
    "\n",
    "payloadSchema = StructType() \\\n",
    "    .add(\"Text\", StringType()) \\\n",
    "    .add(\"Lang\", StringType())"
   ]
  },
  {
   "cell_type": "markdown",
   "id": "incorporated-minister",
   "metadata": {},
   "source": [
    "## Utility Functions"
   ]
  },
  {
   "cell_type": "markdown",
   "id": "hired-province",
   "metadata": {},
   "source": [
    "ExtractTweetPayload is a function used to extract a dataframe with the content and timestamp of the twitter post from a kafka message in json format.\n",
    "\n",
    "GetLastName is a UDF used to extract the last word in a string column of a dataframe."
   ]
  },
  {
   "cell_type": "code",
   "execution_count": null,
   "id": "negative-participation",
   "metadata": {},
   "outputs": [],
   "source": [
    "# extracts structured content from json tweet message\n",
    "def extractTweetPayload(df, tweetSchema, payloadSchema):\n",
    "    return df \\\n",
    "        .selectExpr(\"CAST(key AS STRING)\", \"CAST(value AS STRING)\", \"CAST(timestamp AS TIMESTAMP)\", \"offset\") \\\n",
    "        .withColumn(\"data\", from_json(\"value\", tweetSchema)) \\\n",
    "        .withColumn(\"payload\", from_json(\"data.payload\", payloadSchema)) \\\n",
    "        .select(\"payload.*\", \"key\", \"timestamp\")\n",
    "\n",
    "\n",
    "def getLastName(full_name):\n",
    "    return full_name.split(\" \")[-1:][0]"
   ]
  },
  {
   "cell_type": "markdown",
   "id": "characteristic-edgar",
   "metadata": {},
   "source": [
    "## Streaming Queries"
   ]
  },
  {
   "cell_type": "markdown",
   "id": "guided-hundred",
   "metadata": {},
   "source": [
    "Here I define the streaming queries, they perform simple word count over specific columns of the kafka messages. \n",
    "I decided to go with hopping windows in order to visualize in a more efficient ways moving trends in the Twitter topics."
   ]
  },
  {
   "cell_type": "code",
   "execution_count": null,
   "id": "sticky-citizen",
   "metadata": {},
   "outputs": [],
   "source": [
    "def wordCountQuery(df, colName):\n",
    "    return df \\\n",
    "        .withWatermark(\"timestamp\", \"10 seconds\") \\\n",
    "        .withColumn('word', explode(split(col(colName), ' '))) \\\n",
    "        .groupBy(window(col(\"timestamp\"), \"10 seconds\", \"5 seconds\"),\n",
    "                 col('word')\n",
    "                 ).count() \\\n",
    "        .select(\"word\", \"count\", to_json(struct(\"word\", \"count\")).alias(\"value\"))"
   ]
  },
  {
   "cell_type": "code",
   "execution_count": null,
   "id": "exempt-disorder",
   "metadata": {},
   "outputs": [],
   "source": [
    "def langCountQuery(df, colName):\n",
    "    return df \\\n",
    "        .withWatermark(\"timestamp\", \"2 minutes\") \\\n",
    "        .groupBy(\n",
    "            window(col(\"timestamp\"), \"2 minutes\", \"1 minutes\"),\n",
    "            col(colName)\n",
    "        ).count() \\\n",
    "        .select(colName, \"count\", to_json(struct(colName, \"count\")).alias(\"value\"))\n"
   ]
  },
  {
   "cell_type": "markdown",
   "id": "vocational-metropolitan",
   "metadata": {},
   "source": [
    "## Static Dataset Import and Setup"
   ]
  },
  {
   "cell_type": "markdown",
   "id": "occupational-deficit",
   "metadata": {},
   "source": [
    "In order to extract the meaningful words from the twitter posts,I decided to load the public FIFA 21 dataset, which contains data about the most popular football players and clubs.\n",
    "In the following lines I load the dataset, then I extract and concatenate the list of teams and players into an unique dataframe."
   ]
  },
  {
   "cell_type": "code",
   "execution_count": null,
   "id": "afraid-typing",
   "metadata": {},
   "outputs": [],
   "source": [
    "players = spark.read \\\n",
    "    .option(\"header\", \"true\") \\\n",
    "    .option(\"mode\", \"DROPMALFORMED\") \\\n",
    "    .csv(\"players_21.csv\")\n",
    "\n",
    "lastNameUDF = udf(getLastName, StringType())\n",
    "\n",
    "player_names = players \\\n",
    "    .withColumn(\n",
    "        \"word\", lastNameUDF(\"short_name\")) \\\n",
    "    .withColumn(\"category\", lit(\"Player\")) \\\n",
    "    .select(\"word\", \"category\") \\\n",
    "    .limit(500) \\\n",
    "\n",
    "teams = players \\\n",
    "    .select(\"club_name\") \\\n",
    "    .withColumn(\"category\", lit(\"Team\")) \\\n",
    "    .limit(500) \\\n",
    "    .dropDuplicates() \\\n",
    "\n",
    "topics = player_names.union(teams)"
   ]
  },
  {
   "cell_type": "markdown",
   "id": "taken-visit",
   "metadata": {},
   "source": [
    "# Kafka Data Source Config"
   ]
  },
  {
   "cell_type": "code",
   "execution_count": null,
   "id": "executive-programmer",
   "metadata": {},
   "outputs": [],
   "source": [
    "# Reads the data from kafka\n",
    "df = spark \\\n",
    "    .readStream \\\n",
    "    .format(\"kafka\") \\\n",
    "    .option(\"kafka.bootstrap.servers\", \"broker:9092\") \\\n",
    "    .option(\"failOnDataLoss\", \"false\") \\\n",
    "    .option(\"subscribe\", \"tweets\") \\\n",
    "    .option(\"startingOffsets\", \"earliest\") \\\n",
    "    .load()\n",
    "\n",
    "messages = extractTweetPayload(df, tweetSchema, payloadSchema)"
   ]
  },
  {
   "cell_type": "markdown",
   "id": "married-zoning",
   "metadata": {},
   "source": [
    "# Streaming Queries Startup"
   ]
  },
  {
   "cell_type": "markdown",
   "id": "coupled-metabolism",
   "metadata": {},
   "source": [
    "Run the following cells to start the streaming queries and write the final output into the respective Kafka topics \n",
    "\n",
    "Note that the queries will keep on running until you stop them,since they're operating on a never ending stream ."
   ]
  },
  {
   "cell_type": "code",
   "execution_count": null,
   "id": "announced-collector",
   "metadata": {},
   "outputs": [],
   "source": [
    "# the topics are counted from the queries and joined with the players and clubs dataframe \n",
    "wordCount = wordCountQuery(messages, \"Text\") \\\n",
    "    .join(topics, \"word\") \\\n",
    "    .select(\"word\", \"count\",\"category\", to_json(struct(\"word\", \"count\",\"category\")).alias(\"value\"))\n",
    "\n",
    "# the final output is written to the CountByName Kafka topic\n",
    "query = wordCount \\\n",
    "    .writeStream \\\n",
    "    .format(\"kafka\") \\\n",
    "    .option(\"checkpointLocation\", \"./checkpoints\") \\\n",
    "    .option(\"kafka.bootstrap.servers\", \"localhost:9092\") \\\n",
    "    .option(\"topic\", \"countByName\") \\\n",
    "    .start()\n",
    "'\n",
    "query.awaitTermination()"
   ]
  },
  {
   "cell_type": "code",
   "execution_count": null,
   "id": "reflected-beads",
   "metadata": {},
   "outputs": [],
   "source": [
    "langCount = langCountQuery(messages, \"Lang\")\n",
    "\n",
    "query = wordCount \\\n",
    "    .writeStream \\\n",
    "    .format(\"kafka\") \\\n",
    "    .option(\"checkpointLocation\", \"/home/alessandro/Desktop/Repos/Football-Twitter-Streaming/checkpoints\") \\\n",
    "    .option(\"kafka.bootstrap.servers\", \"localhost:9092\") \\\n",
    "    .option(\"topic\", \"countByLang\") \\\n",
    "    .start()\n",
    "'\n",
    "query.awaitTermination()"
   ]
  }
 ],
 "metadata": {
  "kernelspec": {
   "display_name": "Python 3",
   "language": "python",
   "name": "python3"
  },
  "language_info": {
   "codemirror_mode": {
    "name": "ipython",
    "version": 3
   },
   "file_extension": ".py",
   "mimetype": "text/x-python",
   "name": "python",
   "nbconvert_exporter": "python",
   "pygments_lexer": "ipython3",
   "version": "3.8.8"
  }
 },
 "nbformat": 4,
 "nbformat_minor": 5
}
